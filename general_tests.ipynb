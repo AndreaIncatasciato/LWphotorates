{
 "cells": [
  {
   "cell_type": "code",
   "execution_count": null,
   "metadata": {},
   "outputs": [],
   "source": [
    "import os\n",
    "import numpy as np\n",
    "import matplotlib as mpl\n",
    "import matplotlib.pyplot as plt\n",
    "plt.style.use(os.path.join(os.getcwd(), 'default.mplstyle'))\n",
    "\n",
    "from astropy import constants as const\n",
    "from astropy import units as u\n",
    "\n",
    "import LWphotorates as pr\n",
    "from LWphotorates.utils import nu2lambda, lambda2nu, spec_nu2lambda, spec_lambda2nu\n",
    "# from LWphotorates.utils import convert_energy_cm2ev, convert_energy_ev2cm, convert_energy_cm2k, convert_energy_k2cm\n",
    "from LWphotorates.utils import generate_blackbody_spectrum, generate_flat_spectrum"
   ]
  },
  {
   "cell_type": "code",
   "execution_count": null,
   "metadata": {},
   "outputs": [],
   "source": [
    "data_example_path = os.path.join(os.getcwd(), 'inputdata', 'example_spectra', 'exampleSlug.txt')\n",
    "data_example = np.loadtxt(data_example_path)\n",
    "\n",
    "age_stars_SEDs = np.logspace(6, 9, 61)\n",
    "wl_SEDs = data_example[0] * u.angstrom\n",
    "spectra_SEDs = data_example[1:] * u.erg / u.s / u.angstrom\n",
    "\n",
    "freq_SEDs = lambda2nu(wl=wl_SEDs)\n",
    "energy_SEDs = const.h.to(u.eV / u.Hz) * freq_SEDs"
   ]
  },
  {
   "cell_type": "code",
   "execution_count": null,
   "metadata": {},
   "outputs": [],
   "source": [
    "fig, ax = plt.subplots()\n",
    "ax.plot(wl_SEDs, spectra_SEDs[0], lw=3)\n",
    "ax.plot(wl_SEDs, spectra_SEDs[-1], lw=3)\n",
    "ax.set_xscale('log')\n",
    "ax.set_yscale('log')\n",
    "ax.set_xlabel(r'$\\lambda$  [$\\AA$]')\n",
    "ax.set_ylabel(r'$L_\\nu$  [$\\mathrm{erg} \\ \\mathrm{s}^{-1} \\ \\mathrm{\\AA}^{-1}$]')"
   ]
  },
  {
   "cell_type": "code",
   "execution_count": null,
   "metadata": {},
   "outputs": [],
   "source": [
    "first_spectrum_freq = spec_lambda2nu(wl=wl_SEDs, spec_wl=spectra_SEDs[0])\n",
    "last_spectrum_freq = spec_lambda2nu(wl=wl_SEDs, spec_wl=spectra_SEDs[-1])\n",
    "\n",
    "fig, ax = plt.subplots()\n",
    "ax.plot(energy_SEDs, first_spectrum_freq, lw=3)\n",
    "ax.plot(energy_SEDs, last_spectrum_freq, lw=3)\n",
    "ax.set_xscale('log')\n",
    "ax.set_yscale('log')\n",
    "ax.set_xlabel(r'$\\epsilon$  [eV]')\n",
    "ax.set_ylabel(r'$L_\\nu$  [$\\mathrm{erg} \\ \\mathrm{s}^{-1} \\ \\mathrm{Hz}^{-1}$]')"
   ]
  },
  {
   "cell_type": "code",
   "execution_count": null,
   "metadata": {},
   "outputs": [],
   "source": [
    "H2_diss_rate, H2_heating_rate = pr.compute_kH2(\n",
    "    lambda_array=wl_SEDs,\n",
    "    spectra_lambda=spectra_SEDs,\n",
    "    thresh_Xlevel=1e-5,\n",
    "    thresh_oscxfdiss=1e-6)\n",
    "\n",
    "HM_detach_rate = pr.compute_kHM(\n",
    "    lambda_array=wl_SEDs,\n",
    "    spectra_lambda=spectra_SEDs)\n",
    "\n",
    "H2p_diss_rate, H2p_heating_rate = pr.compute_kH2p(\n",
    "    lambda_array=wl_SEDs,\n",
    "    spectra_lambda=spectra_SEDs)"
   ]
  },
  {
   "cell_type": "code",
   "execution_count": null,
   "metadata": {},
   "outputs": [],
   "source": [
    "fig, ax = plt.subplots()\n",
    "ax.plot(age_stars_SEDs, H2_diss_rate, lw=3, label=r'$\\mathrm{H}_2$')\n",
    "ax.plot(age_stars_SEDs, HM_detach_rate, lw=3, label=r'$\\mathrm{H}^-$')\n",
    "ax.plot(age_stars_SEDs, H2p_diss_rate, lw=3, label=r'$\\mathrm{H}^+_2$')\n",
    "ax.set_xscale('log')\n",
    "ax.set_yscale('log')\n",
    "legend = ax.legend(ncol=1, loc='best')\n",
    "legend.get_frame().set_linewidth(2)"
   ]
  },
  {
   "cell_type": "markdown",
   "metadata": {},
   "source": [
    "## rates for normalised black-body spectra\n",
    "as in Latif+2015"
   ]
  },
  {
   "cell_type": "markdown",
   "metadata": {},
   "source": [
    "### define black bodies"
   ]
  },
  {
   "cell_type": "code",
   "execution_count": null,
   "metadata": {},
   "outputs": [],
   "source": [
    "custom_energy_array = np.linspace(start=0.1, stop=13.6, num=int(1e4)) * u.eV\n",
    "custom_frequency_array = custom_energy_array / const.h.to(u.eV / u.Hz)\n",
    "custom_wavelength_array = nu2lambda(custom_frequency_array)\n",
    "\n",
    "bb_spectra_array = np.empty(shape=(0, len(custom_wavelength_array)))\n",
    "\n",
    "radiation_temperature_array = np.logspace(start=3.7, stop=5)\n",
    "radiation_temperature_array = np.concatenate(([0.], radiation_temperature_array)) * u.K\n",
    "\n",
    "# this gives a spherical surface of 1 cm^2\n",
    "distance = np.sqrt(1. / 4. / np.pi) * u.cm\n",
    "\n",
    "for temperature in radiation_temperature_array:\n",
    "    if temperature.value == 0:\n",
    "        spectrum_freq = generate_flat_spectrum(spectrum_length=len(custom_energy_array)) * 1e-21 * 4. * np.pi * u.sr * u.cm**2\n",
    "    else:\n",
    "        spectrum_freq = generate_blackbody_spectrum(radiation_temperature=temperature, energy_array=custom_energy_array) * 1e-21 * 4. * np.pi * u.sr * u.cm**2\n",
    "    spectrum_wl = spec_nu2lambda(freq=custom_frequency_array, spec_freq=spectrum_freq)\n",
    "    bb_spectra_array = np.vstack((bb_spectra_array, spectrum_wl))"
   ]
  },
  {
   "cell_type": "markdown",
   "metadata": {},
   "source": [
    "### calculate rates"
   ]
  },
  {
   "cell_type": "code",
   "execution_count": null,
   "metadata": {},
   "outputs": [],
   "source": [
    "H2_diss_rate, H2_heating_rate = pr.compute_kH2(\n",
    "    lambda_array=custom_wavelength_array,\n",
    "    spectra_lambda=bb_spectra_array,\n",
    "    distance=distance.to(u.kpc),\n",
    "    ngas=1e0,\n",
    "    Tgas=1e2,\n",
    "    thresh_Xlevel=1e-5,\n",
    "    thresh_oscxfdiss=1e-6\n",
    ")\n",
    "\n",
    "HM_detach_rate = pr.compute_kHM(\n",
    "    lambda_array=custom_wavelength_array,\n",
    "    spectra_lambda=bb_spectra_array,\n",
    "    distance=distance.to(u.kpc)\n",
    ")\n",
    "\n",
    "H2p_diss_rate, H2p_heating_rate = pr.compute_kH2p(\n",
    "    lambda_array=custom_wavelength_array,\n",
    "    spectra_lambda=bb_spectra_array,\n",
    "    distance=distance.to(u.kpc),\n",
    "    ngas=1e0,\n",
    "    Tgas=1e2\n",
    ")"
   ]
  },
  {
   "cell_type": "code",
   "execution_count": null,
   "metadata": {},
   "outputs": [],
   "source": [
    "fig, ax = plt.subplots()\n",
    "ax.plot(radiation_temperature_array[1:], H2_diss_rate[1:], lw=3, label=r'$\\mathrm{H}_2$')\n",
    "ax.plot(radiation_temperature_array[1:], HM_detach_rate[1:], lw=3, label=r'$\\mathrm{H}^-$')\n",
    "ax.plot(radiation_temperature_array[1:], H2p_diss_rate[1:], lw=3, label=r'$\\mathrm{H}^+_2$')\n",
    "ax.set_xscale('log')\n",
    "ax.set_yscale('log')\n",
    "ax.set_xlabel(r'T$_\\mathrm{rad}$  [K]')\n",
    "ax.set_ylabel(r'k  [s$^{-1}$]')\n",
    "legend = ax.legend(ncol=1, loc='best')\n",
    "legend.get_frame().set_linewidth(2)"
   ]
  },
  {
   "cell_type": "markdown",
   "metadata": {},
   "source": [
    "### extrapolate fits"
   ]
  },
  {
   "cell_type": "code",
   "execution_count": null,
   "metadata": {},
   "outputs": [],
   "source": [
    "H2_fit_coeff0 = 1.1735e-1\n",
    "H2_fit_coeff1 = 2.4958e-4\n",
    "H2_fit_coeff2 = 3.4856e-9\n",
    "H2_fit_coeff3 = 1.1902e1\n",
    "H2_diss_fit = (H2_fit_coeff0 + H2_fit_coeff1 * radiation_temperature_array[1:].value + H2_fit_coeff2 * radiation_temperature_array[1:].value**2)**(-1.) - H2_fit_coeff3\n",
    "H2_diss_fit = np.power(10., H2_diss_fit)"
   ]
  },
  {
   "cell_type": "code",
   "execution_count": null,
   "metadata": {},
   "outputs": [],
   "source": [
    "HM_fit_coeff0 = 9.08944e-2\n",
    "HM_fit_coeff1 = 3.27940e-5\n",
    "HM_fit_coeff2 = 5.98490e-1\n",
    "HM_fit_coeff3 = 1.09867e1\n",
    "HM_detach_fit = (HM_fit_coeff0 + HM_fit_coeff1 * radiation_temperature_array[1:].value)**(-1. / HM_fit_coeff2) - HM_fit_coeff3\n",
    "HM_detach_fit = np.power(10., HM_detach_fit)"
   ]
  },
  {
   "cell_type": "code",
   "execution_count": null,
   "metadata": {},
   "outputs": [],
   "source": [
    "H2p_fit_coeff0 = 3.83012e6\n",
    "H2p_fit_coeff1 = 5.06440e2\n",
    "H2p_fit_coeff2 = 6.20988e-1\n",
    "H2p_fit_coeff3 = 3.68778e-12\n",
    "H2p_diss_fit = (-H2p_fit_coeff0 + H2p_fit_coeff1 * radiation_temperature_array[1:].value)**(-1. / H2p_fit_coeff2) + H2p_fit_coeff3"
   ]
  },
  {
   "cell_type": "code",
   "execution_count": null,
   "metadata": {},
   "outputs": [],
   "source": [
    "from matplotlib.lines import Line2D\n",
    "from matplotlib import legend as mlegend"
   ]
  },
  {
   "cell_type": "code",
   "execution_count": null,
   "metadata": {},
   "outputs": [],
   "source": [
    "custom_lines1 = [Line2D([0], [0], c='C0', lw=3),\n",
    "                 Line2D([0], [0], c='C1', lw=3),\n",
    "                 Line2D([0], [0], c='C2', lw=3)]\n",
    "custom_lines2 = [Line2D([0], [0], c='k', ls='-', lw=3),\n",
    "                 Line2D([0], [0], c='k', ls='--',lw=3),\n",
    "                 Line2D([0], [0], c='k', ls=':', lw=3)]\n",
    "custom_labels1 = [r'$\\mathrm{H}_2$', r'$\\mathrm{H}^-$', r'$\\mathrm{H}^+_2$']\n",
    "custom_labels2 = ['rates', 'new fit', 'Latif+15 fit']\n",
    "\n",
    "\n",
    "fig, ax = plt.subplots()\n",
    "\n",
    "ax.plot(radiation_temperature_array[1:], H2_diss_rate[1:], lw=3, ls='-', c='C0')\n",
    "ax.plot(radiation_temperature_array[1:], HM_detach_rate[1:], lw=3, ls='-', c='C1')\n",
    "ax.plot(radiation_temperature_array[1:], H2p_diss_rate[1:], lw=3, ls='-', c='C2')\n",
    "\n",
    "ax.plot(radiation_temperature_array[1:], H2_diss_fit, lw=3, ls=':', c='C0')\n",
    "ax.plot(radiation_temperature_array[1:], HM_detach_fit, lw=3, ls=':', c='C1')\n",
    "ax.plot(radiation_temperature_array[1:], H2p_diss_fit, lw=3, ls=':', c='C2')\n",
    "\n",
    "ax.set_xscale('log')\n",
    "ax.set_yscale('log')\n",
    "ax.set_xlabel(r'T$_\\mathrm{rad}$  [K]')\n",
    "ax.set_ylabel(r'k  [s$^{-1}$]')\n",
    "\n",
    "leg1 = ax.legend(custom_lines1, custom_labels1, ncol=3, loc=(0.12, 0.78))\n",
    "leg2 = mlegend.Legend(ax, custom_lines2, custom_labels2, ncol=3)\n",
    "leg1._legend_box._children.append(leg2._legend_box._children[1])\n",
    "leg1.get_frame().set_linewidth(2)"
   ]
  },
  {
   "cell_type": "markdown",
   "metadata": {},
   "source": [
    "## flat spectrum"
   ]
  },
  {
   "cell_type": "code",
   "execution_count": null,
   "metadata": {},
   "outputs": [],
   "source": [
    "H2_diss_rate_flatspec, H2_heating_rate_flatspec = pr.compute_kH2(\n",
    "    lambda_array=custom_wavelength_array,\n",
    "    spectra_lambda=bb_spectra_array[0],\n",
    "    distance=distance.to(u.kpc),\n",
    "    ngas=1e0,\n",
    "    Tgas=1e2,\n",
    "    thresh_Xlevel=1e-5,\n",
    "    thresh_oscxfdiss=1e-6\n",
    ")\n",
    "\n",
    "HM_detach_rate_flatspec = pr.compute_kHM(\n",
    "    lambda_array=custom_wavelength_array,\n",
    "    spectra_lambda=bb_spectra_array[0],\n",
    "    distance=distance.to(u.kpc)\n",
    ")\n",
    "\n",
    "H2p_diss_rate_flatspec, H2p_heating_rate_flatspec = pr.compute_kH2p(\n",
    "    lambda_array=custom_wavelength_array,\n",
    "    spectra_lambda=bb_spectra_array[0],\n",
    "    distance=distance.to(u.kpc),\n",
    "    ngas=1e0,\n",
    "    Tgas=1e2\n",
    ")"
   ]
  },
  {
   "cell_type": "code",
   "execution_count": null,
   "metadata": {},
   "outputs": [],
   "source": [
    "print(H2_diss_rate_flatspec[0])\n",
    "print(HM_detach_rate_flatspec[0])\n",
    "print(H2p_diss_rate_flatspec[0])"
   ]
  },
  {
   "cell_type": "markdown",
   "metadata": {},
   "source": [
    "## random tests"
   ]
  },
  {
   "cell_type": "markdown",
   "metadata": {},
   "source": [
    "H2p: GS vs LTE, Zammit vs Babb"
   ]
  },
  {
   "cell_type": "code",
   "execution_count": null,
   "metadata": {},
   "outputs": [],
   "source": [
    "gas_temperature_GS = 1e2 * u.K\n",
    "gas_density_GS = 1e0 / u.cm**3"
   ]
  },
  {
   "cell_type": "code",
   "execution_count": null,
   "metadata": {},
   "outputs": [],
   "source": [
    "gas_temperature_LTE = 5e3 * u.K\n",
    "\n",
    "pr.H2p.calc_ncrit(Tgas=gas_temperature_LTE)"
   ]
  },
  {
   "cell_type": "code",
   "execution_count": null,
   "metadata": {},
   "outputs": [],
   "source": [
    "gas_density_LTE = 1e4 / u.cm**3"
   ]
  },
  {
   "cell_type": "code",
   "execution_count": null,
   "metadata": {},
   "outputs": [],
   "source": [
    "H2p_diss_rate_GS_B, H2p_heating_rate_GS_B = pr.compute_kH2p(\n",
    "    lambda_array=custom_wavelength_array,\n",
    "    spectra_lambda=bb_spectra_array[0],\n",
    "    distance=distance.to(u.kpc),\n",
    "    ngas=gas_density_GS,\n",
    "    Tgas=gas_temperature_GS,\n",
    "    Zammit=False\n",
    ")\n",
    "\n",
    "H2p_diss_rate_GS_Z, H2p_heating_rate_GS_Z = pr.compute_kH2p(\n",
    "    lambda_array=custom_wavelength_array,\n",
    "    spectra_lambda=bb_spectra_array[0],\n",
    "    distance=distance.to(u.kpc),\n",
    "    ngas=gas_density_GS,\n",
    "    Tgas=gas_temperature_GS,\n",
    "    Zammit=True\n",
    ")\n",
    "\n",
    "H2p_diss_rate_LTE_B, H2p_heating_rate_LTE_B = pr.compute_kH2p(\n",
    "    lambda_array=custom_wavelength_array,\n",
    "    spectra_lambda=bb_spectra_array[0],\n",
    "    distance=distance.to(u.kpc),\n",
    "    ngas=gas_density_LTE,\n",
    "    Tgas=gas_temperature_LTE,\n",
    "    Zammit=False\n",
    ")\n",
    "\n",
    "H2p_diss_rate_LTE_Z, H2p_heating_rate_LTE_Z = pr.compute_kH2p(\n",
    "    lambda_array=custom_wavelength_array,\n",
    "    spectra_lambda=bb_spectra_array[0],\n",
    "    distance=distance.to(u.kpc),\n",
    "    ngas=gas_density_LTE,\n",
    "    Tgas=gas_temperature_LTE,\n",
    "    Zammit=True\n",
    ")"
   ]
  },
  {
   "cell_type": "code",
   "execution_count": null,
   "metadata": {},
   "outputs": [],
   "source": [
    "print('{0: >12}: \\t {1}'.format('GS - Babb', H2p_diss_rate_GS_B[0]))\n",
    "print('{0: >12}: \\t {1}'.format('LTE - Babb', H2p_diss_rate_LTE_B[0]))\n",
    "print('{0: >12}: \\t {1}'.format('GS - Zammit', H2p_diss_rate_GS_Z[0]))\n",
    "print('{0: >12}: \\t {1}'.format('LTE - Zammit', H2p_diss_rate_LTE_Z[0]))"
   ]
  },
  {
   "cell_type": "code",
   "execution_count": null,
   "metadata": {},
   "outputs": [],
   "source": []
  }
 ],
 "metadata": {
  "kernelspec": {
   "display_name": "Python 3.8.5 ('base')",
   "language": "python",
   "name": "python3"
  },
  "language_info": {
   "codemirror_mode": {
    "name": "ipython",
    "version": 3
   },
   "file_extension": ".py",
   "mimetype": "text/x-python",
   "name": "python",
   "nbconvert_exporter": "python",
   "pygments_lexer": "ipython3",
   "version": "3.8.5"
  },
  "orig_nbformat": 4,
  "vscode": {
   "interpreter": {
    "hash": "7021bb508824ff5c19bcefedf094c63eff9dd83d2845ef7f022f74af7cb3eb47"
   }
  }
 },
 "nbformat": 4,
 "nbformat_minor": 2
}
